{
 "cells": [
  {
   "cell_type": "markdown",
   "id": "23a7b4a1",
   "metadata": {},
   "source": [
    "## Data Processing Notebook\n",
    "### Evolution of obesity rates in United States, over the last decade\n",
    "\n",
    "This is a project work to demonstrate data analysis using Python. \n",
    "\n",
    "Obesity is a common, serious, and costly disease. Obesity-related conditions include heart disease, stroke, type 2 diabetes and certain types of cancer. These are among the leading causes of preventable, premature death. The estimated annual medical cost of obesity in the United States was nearly 173 billion in 2019 dollars. Medical costs for adults who had obesity were $1,861 higher than medical costs for people with healthy weight.\n",
    "\n",
    "In this project we will explore Nutrition, Physical Activity, and Obesity - Behavioral Risk Factor Surveillance System data. We will also explore whether there is a strong correlation between obesity and age, gender, race, income and how these trends vary across United States.\n",
    "\n",
    "**About Data**:\n",
    "This dataset includes data on adult's diet, physical activity, and weight status from Behavioral Risk Factor Surveillance System. This data is used for DNPAO's Data, Trends, and Maps database, which provides national and state specific data on obesity, nutrition, physical activity, and breastfeeding.\n",
    "https://chronicdata.cdc.gov/Nutrition-Physical-Activity-and-Obesity/Nutrition-Physical-Activity-and-Obesity-Behavioral/hn4x-zwk7\n",
    "\n",
    "**Updated**: December 7, 2021\n",
    "\n",
    "**Data Provided by**: Centers for Disease Control and Prevention (CDC), National Center for Chronic Disease Prevention and Health Promotion, Division of Nutrition, Physical Activity, and Obesity\n",
    "\n",
    "Please see Project-Obesity-Analysis notebook for the conclusions. \n",
    "\n",
    "### Research Questions\n",
    "1. Which state has highest precentage of obese adult population?\n",
    "2. Are there any state and national trends related to obesity/overweight/inactive adults? \n",
    "3. Are there differences in obesity rates across Gender, Age, Race, Income and Education?\n",
    "4. Does low levels of excerise and poor nutrition correlate with higher levels of obesity?\n",
    "\n",
    "**GitHub:** https://github.com/nsharma73/python_data_analysis\n"
   ]
  },
  {
   "cell_type": "code",
   "execution_count": null,
   "id": "6fbcab59",
   "metadata": {},
   "outputs": [],
   "source": [
    "# Import key libraries for analysis\n",
    "import numpy as np\n",
    "import pandas as pd\n",
    "from matplotlib import pyplot as plt\n",
    "import plotly.express as px\n",
    "from IPython.display import display"
   ]
  },
  {
   "cell_type": "markdown",
   "id": "24a1e023",
   "metadata": {},
   "source": [
    "Read data from csv. This is data can be downloaded from CDC website as discussed in the intro."
   ]
  },
  {
   "cell_type": "code",
   "execution_count": null,
   "id": "996f9692",
   "metadata": {},
   "outputs": [],
   "source": [
    "df = pd.read_csv('Nutrition_Physical_Activity_and_Obesity.csv')"
   ]
  },
  {
   "cell_type": "markdown",
   "id": "f3167e08",
   "metadata": {},
   "source": [
    "Ensure data is loaded correctly and total row count is as expected."
   ]
  },
  {
   "cell_type": "code",
   "execution_count": null,
   "id": "076ee37d",
   "metadata": {},
   "outputs": [],
   "source": [
    "original_row_count = len(df.index)\n",
    "df.head()"
   ]
  },
  {
   "cell_type": "code",
   "execution_count": null,
   "id": "4e3dde49",
   "metadata": {},
   "outputs": [],
   "source": [
    "df.describe(include='all').transpose()"
   ]
  },
  {
   "cell_type": "markdown",
   "id": "5521622e",
   "metadata": {},
   "source": [
    "### Data Exploration \n",
    "This is a survey data so we will start by looking at questions"
   ]
  },
  {
   "cell_type": "code",
   "execution_count": null,
   "id": "51099cb9",
   "metadata": {},
   "outputs": [],
   "source": [
    "qs = set(df['Question'])"
   ]
  },
  {
   "cell_type": "code",
   "execution_count": null,
   "id": "e439d58d",
   "metadata": {
    "scrolled": true
   },
   "outputs": [],
   "source": [
    "qs"
   ]
  },
  {
   "cell_type": "markdown",
   "id": "de164ea5",
   "metadata": {},
   "source": [
    "#### Explore non-numeric data to better understand the categorical variables\n",
    "We will create a list of columns and then pass this list to a function, \n",
    "which will create a set of unique values for each attribute"
   ]
  },
  {
   "cell_type": "code",
   "execution_count": null,
   "id": "0ca9b4f5",
   "metadata": {},
   "outputs": [],
   "source": [
    "col_dtype_n = pd.DataFrame(df.describe().transpose()).index\n",
    "col_names = pd.DataFrame(df.columns)\n",
    "print(col_dtype_n)\n",
    "print(col_names)"
   ]
  },
  {
   "cell_type": "code",
   "execution_count": null,
   "id": "16701ebe",
   "metadata": {},
   "outputs": [],
   "source": [
    "str_col = col_names[pd.isna(col_names[col_names.isin(col_dtype_n)])].dropna(axis=0)"
   ]
  },
  {
   "cell_type": "code",
   "execution_count": null,
   "id": "769f601b",
   "metadata": {},
   "outputs": [],
   "source": [
    "i_cols_array = np.array(str_col)\n",
    "# Let's test whether the data are appropriately organized in the set with unique values \n",
    "# we are testing the code with questions set\n",
    "set(np.array(df[['Question']])[:,0])"
   ]
  },
  {
   "cell_type": "code",
   "execution_count": null,
   "id": "e6ca42ff",
   "metadata": {},
   "outputs": [],
   "source": [
    "for i in i_cols_array:\n",
    "    print(i)\n",
    "    print(set(np.array(df[i])[:,0]))"
   ]
  },
  {
   "cell_type": "code",
   "execution_count": null,
   "id": "d8bbadeb",
   "metadata": {},
   "outputs": [],
   "source": [
    "df[['LocationID','LocationDesc']].head(15)"
   ]
  },
  {
   "cell_type": "markdown",
   "id": "691dd632",
   "metadata": {},
   "source": [
    "### Key Takeaways\n",
    "1. LocationAbbr and LocationDesc are state codes and state names, we can drop LocationID\n",
    "2. Datasource has only one value \"Behavioral Risk Factor Surveillance System\" and can be deleted\n",
    "3. Class and Topic work together: both are important and provide data about the question category\n",
    "    'Fruits and Vegetables', 'Obesity / Weight Status', 'Physical Activity' for class, and\n",
    "    'Physical Activity - Behavior', 'Fruits and Vegetables - Behavior', 'Obesity / Weight Status' for topic\n",
    "4. ClassID and TopicID may not be needed\n",
    "5. There are 9 questions and these are key to this analysis and we may not need QuestionID\n",
    "6. DataValueType and DataValueType are not needed\n",
    "7. Data_Value_Footnote_Symbol is not needed\n",
    "8. Data_Value_Footnote should be used to delete rows where sample size is not sufficient \n",
    "9. Sample_Size should be converted to numeric data type\n",
    "10. Total column can be used to get totals without any stratification, we will use StratificationCategory1 instead\n",
    "11. Age, Eduction, Gender, Income, Race/Ethnicity are key dimensions for this analysis\n",
    "12. We will not need GeoLocation, and we will work with State data\n",
    "13. Stratification1 is more granular than StratificationCategory1; Hierarchical Data\n",
    "14. StratificationCategoryId1 and StratificationID1 are not needed\n"
   ]
  },
  {
   "cell_type": "code",
   "execution_count": null,
   "id": "215c488f",
   "metadata": {},
   "outputs": [],
   "source": [
    "df.info()"
   ]
  },
  {
   "cell_type": "markdown",
   "id": "1c8849e5",
   "metadata": {},
   "source": [
    "### Data Cleaning\n",
    "The strategy to clean data includes following tasks:\n",
    "- Understand the data quality by exploring unique and null values\n",
    "- Remove columns that are redundant or not needed\n",
    "- Assess missing data rationale and handle missing data\n",
    "- Certain columns appear to have only one value\n",
    "- Rename columns to be more intuitive "
   ]
  },
  {
   "cell_type": "code",
   "execution_count": null,
   "id": "53fee64c",
   "metadata": {},
   "outputs": [],
   "source": [
    "# The data value and alternative data values appear to be the same\n",
    "sum(df.Data_Value_Alt != df.Data_Value)"
   ]
  },
  {
   "cell_type": "code",
   "execution_count": null,
   "id": "f78a6ce4",
   "metadata": {},
   "outputs": [],
   "source": [
    "# Double check the data values before dropping the columns \n",
    "print(df.Data_Value_Unit.unique())\n",
    "print(df.Data_Value_Type.unique())\n",
    "print(df.Data_Value_Footnote_Symbol.unique())\n",
    "print(df.Total.unique())\n",
    "print(df.DataValueTypeID.unique())\n",
    "print(df.Datasource.unique())\n",
    "print(df.Data_Value_Footnote.unique())"
   ]
  },
  {
   "cell_type": "code",
   "execution_count": null,
   "id": "398c87ac",
   "metadata": {},
   "outputs": [],
   "source": [
    "df.drop(['Data_Value_Unit', 'Data_Value_Type', 'LocationID', 'GeoLocation',\n",
    "         'Data_Value_Alt', 'Data_Value_Footnote_Symbol','Total',\n",
    "         'DataValueTypeID','Datasource'], axis=1, inplace = True)"
   ]
  },
  {
   "cell_type": "code",
   "execution_count": null,
   "id": "de33d4d0",
   "metadata": {},
   "outputs": [],
   "source": [
    "len(df.index)"
   ]
  },
  {
   "cell_type": "markdown",
   "id": "5d0ce054",
   "metadata": {},
   "source": [
    "#### Delete records where 'Data not available because sample size is insufficient.'"
   ]
  },
  {
   "cell_type": "code",
   "execution_count": null,
   "id": "24b54649",
   "metadata": {},
   "outputs": [],
   "source": [
    "df.drop(df[df['Data_Value_Footnote'] == \n",
    "           'Data not available because sample size is insufficient.'].index , inplace = True)"
   ]
  },
  {
   "cell_type": "code",
   "execution_count": null,
   "id": "0e92aaba",
   "metadata": {},
   "outputs": [],
   "source": [
    "print(f'{round((original_row_count - len(df.index))/original_row_count*100,2)}\\\n",
    " percent was deleted due to insifficient sample size')"
   ]
  },
  {
   "cell_type": "code",
   "execution_count": null,
   "id": "e553cf3f",
   "metadata": {},
   "outputs": [],
   "source": [
    "len(df.index)"
   ]
  },
  {
   "cell_type": "markdown",
   "id": "b9d4c433",
   "metadata": {},
   "source": [
    "#### The Data_Value_Footnote can be deleted now and we can simplify Year dimension"
   ]
  },
  {
   "cell_type": "code",
   "execution_count": null,
   "id": "75a5a81d",
   "metadata": {},
   "outputs": [],
   "source": [
    "print(df.Data_Value_Footnote.unique())\n",
    "# Data_Value_Footnote column is no longer needed, we used this data to delete missing values\n",
    "df.drop(['Data_Value_Footnote'], axis=1, inplace = True)"
   ]
  },
  {
   "cell_type": "code",
   "execution_count": null,
   "id": "b7325426",
   "metadata": {},
   "outputs": [],
   "source": [
    "# The year start and end have same values, this is likely due to data collection period was within the year.\n",
    "print(sum(df.YearStart != df.YearEnd))\n",
    "# We do not need both columns, so we will keep Year End\n",
    "df.drop(['YearStart'], axis=1, inplace = True)"
   ]
  },
  {
   "cell_type": "markdown",
   "id": "9e7e266d",
   "metadata": {},
   "source": [
    "#### The sample size will be used for weighted average, so we convert it to number"
   ]
  },
  {
   "cell_type": "code",
   "execution_count": null,
   "id": "33e669b2",
   "metadata": {},
   "outputs": [],
   "source": [
    "df['Sample_Size'] = df['Sample_Size'].str.replace(',', '').astype(float)"
   ]
  },
  {
   "cell_type": "code",
   "execution_count": null,
   "id": "6d7c1cc2",
   "metadata": {
    "scrolled": true
   },
   "outputs": [],
   "source": [
    "df.describe(include='all').transpose()"
   ]
  },
  {
   "cell_type": "markdown",
   "id": "432aba64",
   "metadata": {},
   "source": [
    "#### Questions are important data, these questions provide context to data value. There are 9 unique questions\n",
    "The questions appear to quantify data value in terms of:\n",
    "- What percentage of adults have obesity? or\n",
    "- What percentage of adults exercise?"
   ]
  },
  {
   "cell_type": "code",
   "execution_count": null,
   "id": "8da563ae",
   "metadata": {
    "scrolled": true
   },
   "outputs": [],
   "source": [
    "print(len(df.Question.unique()))\n",
    "df.Question.unique()"
   ]
  },
  {
   "cell_type": "markdown",
   "id": "5f773d39",
   "metadata": {},
   "source": [
    "### We use a function to create a \"status\" column that represents questions\n",
    "This step is data transformation, which may help us with readability and plotting the data"
   ]
  },
  {
   "cell_type": "code",
   "execution_count": null,
   "id": "dcd2fd13",
   "metadata": {},
   "outputs": [],
   "source": [
    "def qf_update(row):\n",
    "    if row['Question'] == 'Percent of adults aged 18 years and older who have obesity':\n",
    "        val = 'Obese'\n",
    "    elif row['Question'] == 'Percent of adults aged 18 years and older who have an overweight classification':\n",
    "        val = 'Overweight'\n",
    "    elif row['Question'] == 'Percent of adults who achieve at least 300 minutes a week of moderate-intensity aerobic physical activity or 150 minutes a week of vigorous-intensity aerobic activity (or an equivalent combination)':\n",
    "        val = 'Very Active'\n",
    "    elif row['Question'] == 'Percent of adults who achieve at least 150 minutes a week of moderate-intensity aerobic physical activity or 75 minutes a week of vigorous-intensity aerobic physical activity and engage in muscle-strengthening activities on 2 or more days a week':\n",
    "        val = 'Active and Physical Training' \n",
    "    elif row['Question'] == 'Percent of adults who achieve at least 150 minutes a week of moderate-intensity aerobic physical activity or 75 minutes a week of vigorous-intensity aerobic activity (or an equivalent combination)':\n",
    "        val = 'Active'     \n",
    "    elif row['Question'] == 'Percent of adults who engage in no leisure-time physical activity':\n",
    "        val = 'Inactive'  \n",
    "    elif row['Question'] == 'Percent of adults who engage in muscle-strengthening activities on 2 or more days a week':\n",
    "        val = 'Physical Training'\n",
    "    elif row['Question'] == 'Percent of adults who report consuming fruit less than one time daily':\n",
    "        val = 'Fruits Deficient'\n",
    "    elif row['Question'] == 'Percent of adults who report consuming vegetables less than one time daily':\n",
    "        val = 'Veggies Deficient'\n",
    "    else:\n",
    "        val = 'no data available'\n",
    "    return val"
   ]
  },
  {
   "cell_type": "code",
   "execution_count": null,
   "id": "7b96289e",
   "metadata": {},
   "outputs": [],
   "source": [
    "# Run the function, which will create a new column called \"status\"\n",
    "df['status'] = df.apply(qf_update, axis=1)"
   ]
  },
  {
   "cell_type": "markdown",
   "id": "57712f81",
   "metadata": {},
   "source": [
    "### The data may be imbalanced due to the independence of questions and timing of surveys"
   ]
  },
  {
   "cell_type": "code",
   "execution_count": null,
   "id": "0247d36f",
   "metadata": {},
   "outputs": [],
   "source": [
    "df.status.value_counts()"
   ]
  },
  {
   "cell_type": "code",
   "execution_count": null,
   "id": "c607faf3",
   "metadata": {},
   "outputs": [],
   "source": [
    "# The following columns are not needed for analysis \n",
    "df.drop(['Class', 'Topic', 'Question','ClassID','TopicID','QuestionID',], axis=1, inplace=True)"
   ]
  },
  {
   "cell_type": "code",
   "execution_count": null,
   "id": "363e94b3",
   "metadata": {},
   "outputs": [],
   "source": [
    "# Renaming columns for ease of use during the code\n",
    "df.rename(columns={'Data_Value': 'Percent_Adults', \n",
    "                   'Low_Confidence_Limit': 'LowCI', \n",
    "                   'High_Confidence_Limit ': 'HighCI' }, inplace=True)\n"
   ]
  },
  {
   "cell_type": "markdown",
   "id": "728e1fae",
   "metadata": {},
   "source": [
    "### The categories and subcategories are key dimensions that are required to answer research questions\n",
    "The category and subcategory provide us further context of data, for example age is the category and various ranges of ages such as 18 to 24 years is a subcategory of age. We will use these dimensions to compare obesity rates within each category such as age groups or male vs female obesity rates."
   ]
  },
  {
   "cell_type": "code",
   "execution_count": null,
   "id": "9a64fa46",
   "metadata": {},
   "outputs": [],
   "source": [
    "df.groupby(['StratificationCategory1','Stratification1'])['status'].count()"
   ]
  },
  {
   "cell_type": "code",
   "execution_count": null,
   "id": "cdc461ac",
   "metadata": {},
   "outputs": [],
   "source": [
    "print(df.StratificationCategory1.value_counts())\n",
    "print(df.StratificationCategoryId1.value_counts())\n",
    "print(df.Stratification1.value_counts())\n",
    "print(df.StratificationID1.value_counts())"
   ]
  },
  {
   "cell_type": "code",
   "execution_count": null,
   "id": "74a6ce52",
   "metadata": {},
   "outputs": [],
   "source": [
    "# The ID fields do not provide additional information, so we will work with category and subcategories \n",
    "df.drop(['StratificationCategoryId1', 'StratificationID1'], axis=1, inplace=True)"
   ]
  },
  {
   "cell_type": "code",
   "execution_count": null,
   "id": "2aefd4f5",
   "metadata": {},
   "outputs": [],
   "source": [
    "# renaming the columns for ease of use\n",
    "df.rename(columns={'StratificationCategory1': 'Category', \n",
    "                   'Stratification1': 'Sub_Category',\n",
    "                   'YearEnd':'Year',\n",
    "                   'LocationAbbr':'State',\n",
    "                   'LocationDesc':'State_Name',\n",
    "                   'Age(years)':'Age',\n",
    "                   'Race/Ethnicity':'Race'\n",
    "                  }, inplace=True)"
   ]
  },
  {
   "cell_type": "markdown",
   "id": "224e4cf3",
   "metadata": {},
   "source": [
    "### The columns Age, Edcation, Gender, Income, Race/Ethnicity have null values\n",
    "These columns are not fully populated because the data in these columns is only populated when relevant, for example Gender column is not relevant when the row is populated for a particular age group or race."
   ]
  },
  {
   "cell_type": "code",
   "execution_count": null,
   "id": "f957a25e",
   "metadata": {},
   "outputs": [],
   "source": [
    "df.isnull().sum(axis = 0)"
   ]
  },
  {
   "cell_type": "markdown",
   "id": "f22c562b",
   "metadata": {},
   "source": [
    "### Let's explore location data"
   ]
  },
  {
   "cell_type": "code",
   "execution_count": null,
   "id": "d92d9134",
   "metadata": {},
   "outputs": [],
   "source": [
    "# the data here is represented at state and national level\n",
    "df.State.unique()"
   ]
  },
  {
   "cell_type": "code",
   "execution_count": null,
   "id": "cf351073",
   "metadata": {},
   "outputs": [],
   "source": [
    "st_lookup = pd.read_csv('states.csv')"
   ]
  },
  {
   "cell_type": "code",
   "execution_count": null,
   "id": "b63d01f2",
   "metadata": {},
   "outputs": [],
   "source": [
    "st_lookup_dict = dict(zip(st_lookup.State, st_lookup.Region))"
   ]
  },
  {
   "cell_type": "code",
   "execution_count": null,
   "id": "491137c7",
   "metadata": {},
   "outputs": [],
   "source": [
    "len(st_lookup_dict)"
   ]
  },
  {
   "cell_type": "code",
   "execution_count": null,
   "id": "1ff23595",
   "metadata": {},
   "outputs": [],
   "source": [
    "st_lookup_dict.update(GU ='Other') \n",
    "st_lookup_dict.update(PR ='Other') \n",
    "st_lookup_dict.update(US ='Other') \n",
    "st_lookup_dict.update(VI ='Other') "
   ]
  },
  {
   "cell_type": "code",
   "execution_count": null,
   "id": "ff06dff3",
   "metadata": {},
   "outputs": [],
   "source": [
    "df['Region'] = df['State'].apply(lambda x : st_lookup_dict[x])"
   ]
  },
  {
   "cell_type": "code",
   "execution_count": null,
   "id": "c1897600",
   "metadata": {},
   "outputs": [],
   "source": [
    "us_df = df.loc[df['State_Name'] == 'National']\n",
    "st_df = df.loc[df['State_Name'] != 'National']"
   ]
  },
  {
   "cell_type": "code",
   "execution_count": null,
   "id": "54041cda",
   "metadata": {},
   "outputs": [],
   "source": [
    "print('National data: ',len(us_df))\n",
    "print('State data: ',len(st_df))\n",
    "print('Total data: ',len(us_df)+len(st_df))"
   ]
  },
  {
   "cell_type": "code",
   "execution_count": null,
   "id": "9c3547b1",
   "metadata": {},
   "outputs": [],
   "source": [
    "df.describe(include='all').transpose()"
   ]
  },
  {
   "cell_type": "markdown",
   "id": "4d25485f",
   "metadata": {},
   "source": [
    "### Let's explore how data is structed by year"
   ]
  },
  {
   "cell_type": "code",
   "execution_count": null,
   "id": "ebdee0a3",
   "metadata": {},
   "outputs": [],
   "source": [
    "print(df.Year.value_counts())\n",
    "print(len(us_df))\n",
    "print(len(st_df))"
   ]
  },
  {
   "cell_type": "markdown",
   "id": "367d7821",
   "metadata": {},
   "source": [
    "#### The data is ready for analysis\n",
    "Clean data will be split by national (USA) level and state level into two csv files."
   ]
  },
  {
   "cell_type": "code",
   "execution_count": null,
   "id": "8f724f6f",
   "metadata": {},
   "outputs": [],
   "source": [
    "us_df.to_csv('us_df.csv', sep=',', index=False, encoding='utf-8')\n",
    "st_df.to_csv('st_df.csv', sep=',', index=False, encoding='utf-8')"
   ]
  },
  {
   "cell_type": "code",
   "execution_count": null,
   "id": "cef0572d",
   "metadata": {},
   "outputs": [],
   "source": [
    "print('End of Data Clean Up')"
   ]
  },
  {
   "cell_type": "code",
   "execution_count": null,
   "id": "91fbf32d",
   "metadata": {},
   "outputs": [],
   "source": []
  }
 ],
 "metadata": {
  "kernelspec": {
   "display_name": "Python 3 (ipykernel)",
   "language": "python",
   "name": "python3"
  },
  "language_info": {
   "codemirror_mode": {
    "name": "ipython",
    "version": 3
   },
   "file_extension": ".py",
   "mimetype": "text/x-python",
   "name": "python",
   "nbconvert_exporter": "python",
   "pygments_lexer": "ipython3",
   "version": "3.9.12"
  }
 },
 "nbformat": 4,
 "nbformat_minor": 5
}
