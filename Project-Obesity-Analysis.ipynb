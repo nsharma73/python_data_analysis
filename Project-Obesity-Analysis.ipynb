{
 "cells": [
  {
   "cell_type": "markdown",
   "id": "23a7b4a1",
   "metadata": {},
   "source": [
    "## Evolution of obesity rates in United States, over the last decade\n",
    "\n",
    "This is a project work to demonstrate data analysis using Python. \n",
    "\n",
    "Obesity is a common, serious, and costly disease. Obesity-related conditions include heart disease, stroke, type 2 diabetes and certain types of cancer. These are among the leading causes of preventable, premature death. The estimated annual medical cost of obesity in the United States was nearly 173 billion in 2019 dollars. Medical costs for adults who had obesity were $1,861 higher than medical costs for people with healthy weight.\n",
    "\n",
    "In this project we will explore Nutrition, Physical Activity, and Obesity - Behavioral Risk Factor Surveillance System data. We will also explore whether there is a strong correlation between obesity and age, gender, race, income and how these trends vary across United States.\n",
    "\n",
    "**About Data**:\n",
    "This dataset includes data on adult's diet, physical activity, and weight status from Behavioral Risk Factor Surveillance System. This data is used for DNPAO's Data, Trends, and Maps database, which provides national and state specific data on obesity, nutrition, physical activity, and breastfeeding.\n",
    "https://chronicdata.cdc.gov/Nutrition-Physical-Activity-and-Obesity/Nutrition-Physical-Activity-and-Obesity-Behavioral/hn4x-zwk7\n",
    "\n",
    "**Updated**: December 7, 2021\n",
    "\n",
    "**Data Provided by**: Centers for Disease Control and Prevention (CDC), National Center for Chronic Disease Prevention and Health Promotion, Division of Nutrition, Physical Activity, and Obesity\n",
    "\n",
    "### Research Questions\n",
    "1. Which state has highest precentage of obese adult population?\n",
    "2. Are there any state and national trends related to obesity/overweight/inactive adults? \n",
    "3. Are there differences in obesity rates across Gender, Age, Race, Income and Education?\n",
    "4. Does low levels of excerise and poor nutrition correlate with higher levels of obesity?\n",
    "\n",
    "### Conclusions\n",
    "\n",
    "1. For the last 2 years (2019, 2020) Mississippi had the highest rates of obesity in United States. We also see West Virginia and Lousiana appear on the list a few times.\n",
    "\n",
    "\n",
    "2. Over the last decade (2011-202), the USA obesity rates have gone up from 27.4% to 31.9%\n",
    " * Over the last decade (2011-2020), the state level obesity rates have gone up as well. In 2020, the state level chart confirms that the higest obesity rates were in Mississippi, West Virginia was a close second, followed by Alabama. Aggregating the data to regional level shows that East South Central region shows higest obesity rates followed by West South Central region. The East South Central region also showed the largest change (~20%) in obesity rates since 2011, from 31.7% to 38%\n",
    " * The high obesity rates are concentrated in the south central region. The lowest obesity rates appear to be in Colorado and Massachusetts.\n",
    "\n",
    "\n",
    "3. There are significant differences across Gender, Race, Age, Income and Education levels:\n",
    " * The male obesity rates were higher till 2017, however the female obesity rates accelerated and are now higher than male obsesity rates. In 2020, Female Obesity rates were 32.1% compared to Male obesity rates of 31.7%. This may require further research.\n",
    " * In 2020, the obesity rates are higest among age 45 to 54: 38.1'%'. The lowest obesity rates (19.5%) were in the age group 18 to 24 years. However, this younger group grew from 15.2% in 2011 to 19.5% in 2020. This is a concerning trend. \n",
    " * Black population show highest rates of obesity, 41.6%, in 2020, which is more than 3.5x compared to Asian population obesity rates of 11.8%.\n",
    " * Lower income levels correlates with higher obesity rates. In 2020, population earning higher than 75,000 dollars showed lowest levels of obesity rates, at 29% vs 37.9% for population earning less than 15,000 dollars.\n",
    " * Lower levels of education correlates with higher obesity rates. In 2020, the population with less than high school diploma shows obesity rates of 38.8% compared to 25% for college graduates.\n",
    "\n",
    "\n",
    "4. Higher percentage of inactive population correlates with higher obesity rates and poor nutrition correlates with higher obesity rates:\n",
    " * Mississipi showed higher percentage of inactive population. We see some noise in data, for example the data from Puerto Rico shows higher rates of inactive does not strongly correlate with higher obsesity rates. \n",
    " * Higher level of fruits deficiency shows stronger correlation with higher rates of obesity. However, the relationship is less stronger for vegetables deficiency. Also, some data points such as Puerto Rico are introducing noise in data, for example removing the data from Puerto Rico shows that obesity rates are not correlated with Vegetable deficiency rates.\n",
    "\n",
    "**GitHub:** https://github.com/nsharma73/python_data_analysis\n"
   ]
  },
  {
   "cell_type": "code",
   "execution_count": null,
   "id": "6fbcab59",
   "metadata": {},
   "outputs": [],
   "source": [
    "# Import key libraries for analysis\n",
    "import numpy as np\n",
    "import pandas as pd\n",
    "from matplotlib import pyplot as plt\n",
    "import plotly.express as px\n",
    "from IPython.display import display"
   ]
  },
  {
   "cell_type": "markdown",
   "id": "24a1e023",
   "metadata": {},
   "source": [
    "Read clean/processed data from csv. This is data was processed using Data_Clean_Up notebook"
   ]
  },
  {
   "cell_type": "code",
   "execution_count": null,
   "id": "996f9692",
   "metadata": {},
   "outputs": [],
   "source": [
    "us_df = pd.read_csv('us_df.csv')\n",
    "st_df = pd.read_csv('st_df.csv')"
   ]
  },
  {
   "cell_type": "code",
   "execution_count": null,
   "id": "6cd97af3",
   "metadata": {},
   "outputs": [],
   "source": [
    "print(len(us_df))\n",
    "print(len(st_df))"
   ]
  },
  {
   "cell_type": "markdown",
   "id": "f3167e08",
   "metadata": {},
   "source": [
    "Ensure data is loaded correctly and total row count is as expected."
   ]
  },
  {
   "cell_type": "markdown",
   "id": "03ed0137",
   "metadata": {},
   "source": [
    "### <span style=\"color:red\"> Question #1: Which State has highest obesity? <span>\n",
    "We create a weighted average function to aggregate percent adults, the weights are based on sample size."
   ]
  },
  {
   "cell_type": "code",
   "execution_count": null,
   "id": "e9e645f6",
   "metadata": {},
   "outputs": [],
   "source": [
    "def weighted_average(df, values, weights):\n",
    "    return sum(df[weights] * df[values]) / df[weights].sum()\n"
   ]
  },
  {
   "cell_type": "markdown",
   "id": "ac25ac1d",
   "metadata": {},
   "source": [
    "We use total at state level (state dataframe) to filter on obese population and aggregate percent adults to get the maximum rates by state. "
   ]
  },
  {
   "cell_type": "code",
   "execution_count": null,
   "id": "8dcfd249",
   "metadata": {},
   "outputs": [],
   "source": [
    "st_ob_df = st_df[(st_df['status'] == 'Obese') & (st_df['Category'] == 'Total')]\n",
    "st_ob_df = st_ob_df[['Year', 'State','status','Category','Sub_Category',\n",
    "                     'Age','Education','Gender','Income','Race',\n",
    "                     'Percent_Adults','Sample_Size']]\n"
   ]
  },
  {
   "cell_type": "code",
   "execution_count": null,
   "id": "80924186",
   "metadata": {},
   "outputs": [],
   "source": [
    "grp_tmp = pd.DataFrame(st_ob_df.groupby(['Year',\n",
    "                                         'State']).apply(weighted_average, \n",
    "                                                        'Percent_Adults', \n",
    "                                                         'Sample_Size')).reset_index()\n",
    "grp_tmp.columns = ['Year', 'State', 'Percent_Adults']"
   ]
  },
  {
   "cell_type": "code",
   "execution_count": null,
   "id": "507d353a",
   "metadata": {},
   "outputs": [],
   "source": [
    "#numpy.average(a, axis=None, weights=None, returned=False)\n",
    "#df['newcol']=df.groupby(['group1','group2']).colname.transform('count') \n",
    "tmp1 = pd.DataFrame(st_ob_df.groupby(['Year',\n",
    "                                         'State']).apply(weighted_average, \n",
    "                                                        'Percent_Adults', \n",
    "                                                         'Sample_Size')).reset_index()\n",
    "tmp1.columns = ['Year', 'State', 'Percent_Adults']"
   ]
  },
  {
   "cell_type": "code",
   "execution_count": null,
   "id": "da7a4ba0",
   "metadata": {},
   "outputs": [],
   "source": [
    "tmp1['max_state_level'] = tmp1.groupby(['Year']).Percent_Adults.transform('max')"
   ]
  },
  {
   "cell_type": "code",
   "execution_count": null,
   "id": "cb8fcf28",
   "metadata": {},
   "outputs": [],
   "source": [
    "tmp1[tmp1['Percent_Adults']==tmp1['max_state_level']].sort_values(['Year','max_state_level'])"
   ]
  },
  {
   "cell_type": "markdown",
   "id": "1fbb5ee4",
   "metadata": {},
   "source": [
    "### <span style=\"color:blue\">Conclusion 1: For the last 2 years (2019, 2020) Mississippi had the highest rates of obesity in United States. We also see West Virginia and Lousiana appear on the list a few times.\n",
    "</span>"
   ]
  },
  {
   "cell_type": "markdown",
   "id": "fb385b94",
   "metadata": {},
   "source": [
    "### <span style=\"color:red\"> Question 2: Are there any state and national trends related to obesity/overweight/inactive adults? <span>"
   ]
  },
  {
   "cell_type": "markdown",
   "id": "69bee0b5",
   "metadata": {},
   "source": [
    "We look at the national (USA) level data to see what the overall obesity trends are"
   ]
  },
  {
   "cell_type": "code",
   "execution_count": null,
   "id": "ed27044c",
   "metadata": {},
   "outputs": [],
   "source": [
    "df_us_obesity = us_df[(us_df['status']=='Obese') & (us_df['Category']=='Total')]"
   ]
  },
  {
   "cell_type": "code",
   "execution_count": null,
   "id": "abc68bba",
   "metadata": {},
   "outputs": [],
   "source": [
    "tmp2 = pd.DataFrame(df_us_obesity.groupby(['Year']).apply(weighted_average, \n",
    "                                                        'Percent_Adults', \n",
    "                                                         'Sample_Size')).reset_index()\n",
    "tmp2.columns = ['Year','Percent_Adults']"
   ]
  },
  {
   "cell_type": "code",
   "execution_count": null,
   "id": "393a73a7",
   "metadata": {
    "scrolled": false
   },
   "outputs": [],
   "source": [
    "fig = px.line(tmp2, x=\"Year\", y=\"Percent_Adults\", title='US Obesity Rate')\n",
    "fig.show()"
   ]
  },
  {
   "cell_type": "markdown",
   "id": "2a821766",
   "metadata": {},
   "source": [
    "### <span style=\"color:blue\">Conclusion 2a: Over the last decade (2011-202), the USA obesity rates have gone up from 27.4% to 31.9%.\n",
    "</span>"
   ]
  },
  {
   "cell_type": "markdown",
   "id": "b9d011e2",
   "metadata": {},
   "source": [
    "We look at state level data next"
   ]
  },
  {
   "cell_type": "code",
   "execution_count": null,
   "id": "34c92ff7",
   "metadata": {},
   "outputs": [],
   "source": [
    "df_state_obesity = st_df[(st_df['status']=='Obese') & (st_df['Category']=='Total')]"
   ]
  },
  {
   "cell_type": "code",
   "execution_count": null,
   "id": "cb580a66",
   "metadata": {},
   "outputs": [],
   "source": [
    "df_state_obesity"
   ]
  },
  {
   "cell_type": "code",
   "execution_count": null,
   "id": "c25fbaa2",
   "metadata": {},
   "outputs": [],
   "source": [
    "tmp3 = pd.DataFrame(df_state_obesity.groupby(['Year','State']).apply(weighted_average, \n",
    "                                                        'Percent_Adults', \n",
    "                                                         'Sample_Size')).reset_index()\n",
    "tmp3.columns = ['Year', 'State', 'Percent_Adults']"
   ]
  },
  {
   "cell_type": "code",
   "execution_count": null,
   "id": "4bab9019",
   "metadata": {},
   "outputs": [],
   "source": [
    "fig = px.line(tmp3, x=\"Year\", y=\"Percent_Adults\", color='State', title='Adult Obesity Rates by State')\n",
    "fig.show()"
   ]
  },
  {
   "cell_type": "code",
   "execution_count": null,
   "id": "b6b93d2b",
   "metadata": {},
   "outputs": [],
   "source": [
    "tmp_region = pd.DataFrame(df_state_obesity.groupby(['Year','Region']).apply(weighted_average, \n",
    "                                                        'Percent_Adults', \n",
    "                                                         'Sample_Size')).reset_index()\n",
    "tmp_region.columns = ['Year', 'Region', 'Percent_Adults']"
   ]
  },
  {
   "cell_type": "code",
   "execution_count": null,
   "id": "c73842f7",
   "metadata": {},
   "outputs": [],
   "source": [
    "tmp_region\n",
    "fig = px.line(tmp_region, x=\"Year\", y=\"Percent_Adults\", color='Region', title='Adult Obesity Rates by Region')\n",
    "fig.show()"
   ]
  },
  {
   "cell_type": "code",
   "execution_count": null,
   "id": "1cc5ec67",
   "metadata": {},
   "outputs": [],
   "source": [
    "pvt_tmp_region=tmp_region.pivot(index='Region', columns='Year', values='Percent_Adults')\n",
    "pvt_tmp_region=pvt_tmp_region.drop('Other')\n",
    "heat_pvt_tmp_region=pvt_tmp_region.pct_change(periods = 9, axis=1)\n",
    "\n",
    "heat_pvt_tmp_region.style.background_gradient(cmap ='Blues')\\\n",
    "        .set_properties(**{'font-size': '10px'})"
   ]
  },
  {
   "cell_type": "markdown",
   "id": "0d0b0791",
   "metadata": {},
   "source": [
    "### <span style=\"color:blue\">Conclusion 2b: Over the last decade (2011-2020), the state level obesity rates have gone up as well. In 2020, the state level chart confirms higest obesity rates for Mississippi, West Virginia is a close second, followed by Alabama. Looking at higher-level regional data East South Central region shows higest obesity rates followed by West South Central region. The East South Central region also showed the largest change (~20%) in obesity rates since 2011, from 31.7% to 38%.\n",
    "</span>"
   ]
  },
  {
   "cell_type": "markdown",
   "id": "7f379ebb",
   "metadata": {},
   "source": [
    "We also look at the map view see how obesity rates have evolved over the last decade"
   ]
  },
  {
   "cell_type": "code",
   "execution_count": null,
   "id": "60b27a5b",
   "metadata": {},
   "outputs": [],
   "source": [
    "fig = px.choropleth(tmp3,\n",
    "                    locations='State',\n",
    "                    color='Percent_Adults',\n",
    "                    color_continuous_scale='spectral_r',\n",
    "                    hover_name='State',\n",
    "                    locationmode='USA-states',\n",
    "                    labels={'Percent_Adults':' Obesity Rate'},\n",
    "                    scope='usa',\n",
    "                    animation_frame='Year', \n",
    "                    animation_group='State')\n",
    "fig.show()"
   ]
  },
  {
   "cell_type": "markdown",
   "id": "6ae40cc7",
   "metadata": {},
   "source": [
    "### <span style=\"color:blue\">Conclusion 2c: The high obesity rates are concentrated in the south central region. The lowest obesity rates appear to be in Colorado and Massachusetts.\n",
    "</span>"
   ]
  },
  {
   "cell_type": "markdown",
   "id": "6c519dec",
   "metadata": {},
   "source": [
    "### <span style=\"color:red\"> Question 3: Are there differences in obesity rates across Gender, Age, Race, Income and Education?</span>"
   ]
  },
  {
   "cell_type": "markdown",
   "id": "8a8d0c11",
   "metadata": {},
   "source": [
    "#### This question requires us to create multiple views or charts of data that aggregates data by various categories. To streamline the analysis we will create a function that can take two arguments: status and category, and return a chart as well as table."
   ]
  },
  {
   "cell_type": "code",
   "execution_count": null,
   "id": "5804c1e0",
   "metadata": {},
   "outputs": [],
   "source": [
    "def plot_data(statusv,colnamev,exclude=['Other', '2 or more races','Data not reported']):\n",
    "    \"\"\"\n",
    "    This function needs to arguments status variable and column name variable\n",
    "    Status can be Obese, Overweight etc.\n",
    "    Column Name refers to Age, Race, Income in the dataframe \n",
    "    Optional argument: exclude, which can be used to exclude certain values\n",
    "    such as 'Other' and 'Data not reported' \n",
    "    \"\"\"\n",
    "    df0 = us_df[(us_df['status']==statusv) & (us_df[colnamev].notnull()) & (~us_df[colnamev].isin(exclude))]\n",
    "    df1 = pd.DataFrame(df0.groupby(['Year',colnamev]).apply(weighted_average, \n",
    "                                                        'Percent_Adults', \n",
    "                                                         'Sample_Size')).reset_index()\n",
    "    df1.columns = ['Year', colnamev, 'Percent_Adults']\n",
    "    dfp = df1.pivot(index='Year', columns=colnamev, values='Percent_Adults')\n",
    "    fig = px.bar(df1, x='Year', y='Percent_Adults', color=colnamev, barmode='group')\n",
    "    \n",
    "    return fig.show(), display(dfp) "
   ]
  },
  {
   "cell_type": "markdown",
   "id": "861700a9",
   "metadata": {},
   "source": [
    "#### Part A: Obesity Rates by Gender"
   ]
  },
  {
   "cell_type": "code",
   "execution_count": null,
   "id": "3cc7d0bf",
   "metadata": {},
   "outputs": [],
   "source": [
    "plot_data('Obese','Gender')"
   ]
  },
  {
   "cell_type": "markdown",
   "id": "5835f146",
   "metadata": {},
   "source": [
    "#### Part B: Obesity Rates by Age"
   ]
  },
  {
   "cell_type": "code",
   "execution_count": null,
   "id": "c373453a",
   "metadata": {},
   "outputs": [],
   "source": [
    "plot_data('Obese','Age')"
   ]
  },
  {
   "cell_type": "markdown",
   "id": "9f3a7ef8",
   "metadata": {},
   "source": [
    "#### Part C: Obesity Rates by Race"
   ]
  },
  {
   "cell_type": "code",
   "execution_count": null,
   "id": "63829fc5",
   "metadata": {},
   "outputs": [],
   "source": [
    "plot_data('Obese','Race')"
   ]
  },
  {
   "cell_type": "markdown",
   "id": "754a9933",
   "metadata": {},
   "source": [
    "#### Part D: Obesity Rates by Income"
   ]
  },
  {
   "cell_type": "code",
   "execution_count": null,
   "id": "70d71f1a",
   "metadata": {},
   "outputs": [],
   "source": [
    "plot_data('Obese','Income')"
   ]
  },
  {
   "cell_type": "markdown",
   "id": "a929a84d",
   "metadata": {},
   "source": [
    "#### Part E: Obesity Rates by Education"
   ]
  },
  {
   "cell_type": "code",
   "execution_count": null,
   "id": "005681ff",
   "metadata": {},
   "outputs": [],
   "source": [
    "plot_data('Obese','Education')"
   ]
  },
  {
   "cell_type": "markdown",
   "id": "aa843a73",
   "metadata": {},
   "source": [
    "### <span style=\"color:blue\"> Conclusion 3 \n",
    "#### A. The male obesity rates were higher till 2017, however the female obesity rates accelerated and are now higher than male obsesity rates. This may require further research. \n",
    "#### B. The obesity rates are higest among age 45 to 54\n",
    "#### C. Black population show highest rates of obesity\n",
    "#### D. Lower income levels correlates with higher obesity rates\n",
    "#### E. Lower levels of education correlates with higher obesity rates\n",
    "</span>"
   ]
  },
  {
   "cell_type": "markdown",
   "id": "cb9933d9",
   "metadata": {},
   "source": [
    "### <span style=\"color:red\"> Question 4: Does low levels of excerise and poor nutrition correlate with higher levels of obesity? <span>"
   ]
  },
  {
   "cell_type": "markdown",
   "id": "023b6573",
   "metadata": {},
   "source": [
    "#### This part of analysis looks at the percentage inactive population and percent obese by states, the idea is to plot the two metrics and visually inspect for any correlation."
   ]
  },
  {
   "cell_type": "code",
   "execution_count": null,
   "id": "54f12df0",
   "metadata": {},
   "outputs": [],
   "source": [
    "# we will use the existing table with percent obese adults by state and rename the column for convenience \n",
    "tmp3.rename(columns = {'Percent_Adults':'Percent_Obese_Adults'}, inplace = True)"
   ]
  },
  {
   "cell_type": "code",
   "execution_count": null,
   "id": "0983cca7",
   "metadata": {},
   "outputs": [],
   "source": [
    "df_state_inactive = st_df[(st_df['status']=='Inactive') & (st_df['Category']=='Total')]"
   ]
  },
  {
   "cell_type": "code",
   "execution_count": null,
   "id": "31cb12da",
   "metadata": {},
   "outputs": [],
   "source": [
    "tmp_inactive = pd.DataFrame(df_state_inactive.groupby(['Year','State']).apply(weighted_average, \n",
    "                                                        'Percent_Adults', \n",
    "                                                         'Sample_Size')).reset_index()\n",
    "tmp_inactive.columns = ['Year', 'State', 'Percent_Inactive_Adults']"
   ]
  },
  {
   "cell_type": "code",
   "execution_count": null,
   "id": "ed30ed47",
   "metadata": {},
   "outputs": [],
   "source": [
    "mdf_st=tmp3.merge(tmp_inactive, how='inner', on=['Year','State'])"
   ]
  },
  {
   "cell_type": "code",
   "execution_count": null,
   "id": "c3cbdb2a",
   "metadata": {},
   "outputs": [],
   "source": [
    "fig = px.scatter(x=mdf_st['Percent_Inactive_Adults'], \n",
    "                 y=mdf_st['Percent_Obese_Adults'], \n",
    "                 color=mdf_st['State'],\n",
    "                 labels={\n",
    "                     'x': 'Percent Inactive Adults',\n",
    "                     'y': 'Percent Obese Adults'\n",
    "                 },\n",
    "                title='Relationship between Inactive and Obese Population')\n",
    "fig.show()"
   ]
  },
  {
   "cell_type": "markdown",
   "id": "fa8b4cd1",
   "metadata": {},
   "source": [
    "### <span style=\"color:blue\">Conclusion A: Higher rates of inactive rates correlate positively with higher rates of obesity. We do see some noise in data, for example the data from Puerto Rico shows higher rates of inactive do not strongly correlate with higher obsesity rates.</span> "
   ]
  },
  {
   "cell_type": "code",
   "execution_count": null,
   "id": "4b32032c",
   "metadata": {},
   "outputs": [],
   "source": [
    "df_state_nfv = st_df[(st_df['status']=='Veggies Deficient') & (st_df['Category']=='Total')]\n",
    "df_state_nff = st_df[(st_df['status']=='Fruits Deficient') & (st_df['Category']=='Total')]"
   ]
  },
  {
   "cell_type": "code",
   "execution_count": null,
   "id": "109fdb22",
   "metadata": {},
   "outputs": [],
   "source": [
    "tmp_nfv = pd.DataFrame(df_state_nfv.groupby(['Year','State']).apply(weighted_average, \n",
    "                                                        'Percent_Adults', \n",
    "                                                         'Sample_Size')).reset_index()\n",
    "tmp_nfv.columns = ['Year', 'State', 'Percent_Adults_Deficient_Veggies']\n",
    "\n",
    "tmp_nff = pd.DataFrame(df_state_nff.groupby(['Year','State']).apply(weighted_average, \n",
    "                                                        'Percent_Adults', \n",
    "                                                         'Sample_Size')).reset_index()\n",
    "tmp_nff.columns = ['Year', 'State', 'Percent_Adults_Deficient_Fruits']"
   ]
  },
  {
   "cell_type": "code",
   "execution_count": null,
   "id": "f7e8d4e1",
   "metadata": {},
   "outputs": [],
   "source": [
    "ndf_v=tmp3.merge(tmp_nfv, how='inner', on=['Year','State'])"
   ]
  },
  {
   "cell_type": "code",
   "execution_count": null,
   "id": "c2287f56",
   "metadata": {},
   "outputs": [],
   "source": [
    "ndf_f=tmp3.merge(tmp_nff, how='inner', on=['Year','State'])"
   ]
  },
  {
   "cell_type": "code",
   "execution_count": null,
   "id": "a5be5536",
   "metadata": {},
   "outputs": [],
   "source": [
    "fig = px.scatter(x=ndf_f['Percent_Obese_Adults'], \n",
    "                 y=ndf_f['Percent_Adults_Deficient_Fruits'], \n",
    "                 color=ndf_f['State'],\n",
    "                 labels={\n",
    "                     'x': 'Percent Adults Obese',\n",
    "                     'y': 'Percent Adults Deficient in Fruits'\n",
    "                 },\n",
    "                title='Relationship between Obesity and Fruit Deficiency among Population')\n",
    "fig.show()\n",
    "\n",
    "fig = px.scatter(x=ndf_v['Percent_Obese_Adults'], \n",
    "                 y=ndf_v['Percent_Adults_Deficient_Veggies'], \n",
    "                 color=ndf_v['State'],\n",
    "                 labels={\n",
    "                     'x': 'Percent Adults Obese',\n",
    "                     'y': 'Percent Adults Deficient in Veggies'\n",
    "                 },\n",
    "                title='Relationship between Obesity and Vegetable Deficiency among Population')\n",
    "fig.show()"
   ]
  },
  {
   "cell_type": "markdown",
   "id": "439009fd",
   "metadata": {},
   "source": [
    "### <span style=\"color:blue\">Conclusion B: Higher level of fruits deficiency shows stronger correlation with higher rates of obesity. However, the relationship is less stronger for vegetables deficiency. Also, some data points such as Puerto Rico are introducing noise in data, for example removing the data from Puerto Rico shows that obesity rates are not correlated with Vegetable deficiency rates.</span> "
   ]
  },
  {
   "cell_type": "code",
   "execution_count": null,
   "id": "d58004b3",
   "metadata": {},
   "outputs": [],
   "source": [
    "print('End of Analysis')"
   ]
  },
  {
   "cell_type": "code",
   "execution_count": null,
   "id": "8b0a85eb",
   "metadata": {},
   "outputs": [],
   "source": []
  }
 ],
 "metadata": {
  "kernelspec": {
   "display_name": "Python 3 (ipykernel)",
   "language": "python",
   "name": "python3"
  },
  "language_info": {
   "codemirror_mode": {
    "name": "ipython",
    "version": 3
   },
   "file_extension": ".py",
   "mimetype": "text/x-python",
   "name": "python",
   "nbconvert_exporter": "python",
   "pygments_lexer": "ipython3",
   "version": "3.9.12"
  }
 },
 "nbformat": 4,
 "nbformat_minor": 5
}
